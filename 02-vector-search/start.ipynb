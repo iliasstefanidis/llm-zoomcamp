{
 "cells": [
  {
   "cell_type": "markdown",
   "id": "ff63706b",
   "metadata": {},
   "source": [
    "### run pip install -q \"qdrant-client[fastembed]>=1.14.2\" to make the client work"
   ]
  },
  {
   "cell_type": "markdown",
   "id": "7d890e13",
   "metadata": {},
   "source": [
    "### run docker run -p 6333:6333 -p 6334:6334 -v \"${PWD}/qdrant_storage:/qdrant/storage\" qdrant/qdrant\n"
   ]
  },
  {
   "cell_type": "code",
   "execution_count": 5,
   "id": "c29c37cd",
   "metadata": {},
   "outputs": [],
   "source": [
    "from qdrant_client import QdrantClient,models"
   ]
  },
  {
   "cell_type": "code",
   "execution_count": 9,
   "id": "32284a71",
   "metadata": {},
   "outputs": [],
   "source": [
    "client=QdrantClient(\"http://localhost:6333\")"
   ]
  },
  {
   "cell_type": "code",
   "execution_count": 11,
   "id": "e2b2f24e",
   "metadata": {},
   "outputs": [
    {
     "name": "stdout",
     "output_type": "stream",
     "text": [
      "collections=[]\n"
     ]
    }
   ],
   "source": [
    "#here we check if the client is working. There are no collections yet. \n",
    "print(client.get_collections())"
   ]
  },
  {
   "cell_type": "code",
   "execution_count": null,
   "id": "804254c8",
   "metadata": {},
   "outputs": [],
   "source": []
  }
 ],
 "metadata": {
  "kernelspec": {
   "display_name": "Python 3",
   "language": "python",
   "name": "python3"
  },
  "language_info": {
   "codemirror_mode": {
    "name": "ipython",
    "version": 3
   },
   "file_extension": ".py",
   "mimetype": "text/x-python",
   "name": "python",
   "nbconvert_exporter": "python",
   "pygments_lexer": "ipython3",
   "version": "3.12.2"
  }
 },
 "nbformat": 4,
 "nbformat_minor": 5
}
