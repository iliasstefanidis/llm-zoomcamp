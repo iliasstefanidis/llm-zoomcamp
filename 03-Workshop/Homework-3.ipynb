{
 "cells": [
  {
   "cell_type": "markdown",
   "id": "c2d97cb7",
   "metadata": {},
   "source": [
    "Question 1 (What's the version of dlt that you installed?)"
   ]
  },
  {
   "cell_type": "code",
   "execution_count": null,
   "id": "3fdf1020",
   "metadata": {},
   "outputs": [
    {
     "name": "stdout",
     "output_type": "stream",
     "text": [
      "Name: dlt\n",
      "Version: 1.12.3\n",
      "Summary: dlt is an open-source python-first scalable data loading library that does not require any backend to run.\n",
      "Home-page: \n",
      "Author: \n",
      "Author-email: \"dltHub Inc.\" <services@dlthub.com>\n",
      "License: \n",
      "Location: c:\\Users\\ilias\\AppData\\Local\\Programs\\Python\\Python312\\Lib\\site-packages\n",
      "Requires: click, fsspec, gitpython, giturlparse, hexbytes, humanize, jsonpath-ng, orjson, packaging, pathvalidate, pendulum, pluggy, pytz, pywin32, pyyaml, requests, requirements-parser, rich-argparse, semver, setuptools, simplejson, sqlglot, tenacity, tomlkit, typing-extensions, tzdata, win-precise-time\n",
      "Required-by: cognee\n",
      "Note: you may need to restart the kernel to use updated packages.\n",
      "Name: qdrant-client\n",
      "Version: 1.14.3\n",
      "Summary: Client library for the Qdrant vector search engine\n",
      "Home-page: \n",
      "Author: Andrey Vasnetsov\n",
      "Author-email: andrey@qdrant.tech\n",
      "License: Apache-2.0\n",
      "Location: c:\\Users\\ilias\\AppData\\Local\\Programs\\Python\\Python312\\Lib\\site-packages\n",
      "Requires: grpcio, httpx, numpy, portalocker, protobuf, pydantic, urllib3\n",
      "Required-by: \n",
      "Note: you may need to restart the kernel to use updated packages.\n"
     ]
    }
   ],
   "source": [
    "#after installing(Use this command) pip install -q \"dlt[qdrant]\" \"qdrant-client[fastembed]\"\n",
    "%pip show dlt\n",
    "%pip show qdrant-client"
   ]
  },
  {
   "cell_type": "markdown",
   "id": "4804a432",
   "metadata": {},
   "source": [
    "Answer is Version 1.12.3"
   ]
  },
  {
   "cell_type": "code",
   "execution_count": 5,
   "id": "746e5778",
   "metadata": {},
   "outputs": [],
   "source": [
    "import requests\n",
    "import dlt\n",
    "\n",
    "@dlt.resource\n",
    "def zoomcamp_data():\n",
    "    docs_url = 'https://github.com/alexeygrigorev/llm-rag-workshop/raw/main/notebooks/documents.json'\n",
    "    docs_response = requests.get(docs_url)\n",
    "    documents_raw = docs_response.json()\n",
    "\n",
    "    for course in documents_raw:\n",
    "        course_name = course['course']\n",
    "\n",
    "        for doc in course['documents']:\n",
    "            doc['course'] = course_name\n",
    "            yield doc\n"
   ]
  },
  {
   "cell_type": "markdown",
   "id": "53491c6b",
   "metadata": {},
   "source": [
    "Question 2 (How many rows were inserted into the zoomcamp_data collection?)"
   ]
  },
  {
   "cell_type": "markdown",
   "id": "b06e9cb7",
   "metadata": {},
   "source": [
    "We need to define a destination for that. Let's use the qdrant one:"
   ]
  },
  {
   "cell_type": "code",
   "execution_count": 6,
   "id": "653d97d5",
   "metadata": {},
   "outputs": [],
   "source": [
    "from dlt.destinations import qdrant\n",
    "\n",
    "qdrant_destination = qdrant(\n",
    "  qd_path=\"db.qdrant\", \n",
    ")"
   ]
  },
  {
   "cell_type": "code",
   "execution_count": 7,
   "id": "c1692ccf",
   "metadata": {},
   "outputs": [
    {
     "name": "stderr",
     "output_type": "stream",
     "text": [
      "c:\\Users\\ilias\\AppData\\Local\\Programs\\Python\\Python312\\Lib\\site-packages\\tqdm\\auto.py:21: TqdmWarning: IProgress not found. Please update jupyter and ipywidgets. See https://ipywidgets.readthedocs.io/en/stable/user_install.html\n",
      "  from .autonotebook import tqdm as notebook_tqdm\n",
      "Fetching 5 files:   0%|          | 0/5 [00:00<?, ?it/s]\n",
      "c:\\Users\\ilias\\AppData\\Local\\Programs\\Python\\Python312\\Lib\\site-packages\\huggingface_hub\\file_download.py:143: UserWarning: `huggingface_hub` cache-system uses symlinks by default to efficiently store duplicated files but your machine does not support them in C:\\Users\\ilias\\AppData\\Local\\Temp\\fastembed_cache\\models--Qdrant--bge-small-en. Caching files will still work but in a degraded version that might require more space on your disk. This warning can be disabled by setting the `HF_HUB_DISABLE_SYMLINKS_WARNING` environment variable. For more details, see https://huggingface.co/docs/huggingface_hub/how-to-cache#limitations.\n",
      "To support symlinks on Windows, you either need to activate Developer Mode or to run Python as an administrator. In order to activate developer mode, see this article: https://docs.microsoft.com/en-us/windows/apps/get-started/enable-your-device-for-development\n",
      "  warnings.warn(message)\n",
      "\u001b[32m2025-07-07 21:38:50.452\u001b[0m | \u001b[31m\u001b[1mERROR   \u001b[0m | \u001b[36mfastembed.common.model_management\u001b[0m:\u001b[36mdownload_model\u001b[0m:\u001b[36m430\u001b[0m - \u001b[31m\u001b[1mCould not download model from HuggingFace: [WinError 1314] A required privilege is not held by the client: '..\\\\..\\\\blobs\\\\d24f8d0cfab6e6a99fca53c1143c7d780aeb210c' -> 'C:\\\\Users\\\\ilias\\\\AppData\\\\Local\\\\Temp\\\\fastembed_cache\\\\models--Qdrant--bge-small-en\\\\snapshots\\\\8791246cc2a79c7949a4dc0d4a018cbd7d024879\\\\config.json' Falling back to other sources.\u001b[0m\n",
      "100%|██████████| 77.7M/77.7M [00:04<00:00, 16.4MiB/s]\n",
      "Fetching 5 files: 100%|██████████| 5/5 [00:00<00:00, 24.41it/s]\n"
     ]
    },
    {
     "name": "stdout",
     "output_type": "stream",
     "text": [
      "Run started at 2025-07-07 18:38:43.283006+00:00 and COMPLETED in 24.43 seconds with 4 steps.\n",
      "Step extract COMPLETED in 0.80 seconds.\n",
      "\n",
      "Load package 1751913536.6524866 is EXTRACTED and NOT YET LOADED to the destination and contains no failed jobs\n",
      "\n",
      "Step normalize COMPLETED in 0.07 seconds.\n",
      "Normalized data for the following tables:\n",
      "- zoomcamp_data: 948 row(s)\n",
      "- _dlt_pipeline_state: 1 row(s)\n",
      "\n",
      "Load package 1751913536.6524866 is NORMALIZED and NOT YET LOADED to the destination and contains no failed jobs\n",
      "\n",
      "Step load COMPLETED in 10.20 seconds.\n",
      "Pipeline zoomcamp_pipeline load step completed in 10.19 seconds\n",
      "1 load package(s) were loaded to destination qdrant and into dataset zoomcamp_tagged_data\n",
      "The qdrant destination used c:\\Users\\ilias\\Documents\\GitHub\\llm-zoomcamp\\03-Workshop\\db.qdrant location to store data\n",
      "Load package 1751913536.6524866 is LOADED and contains no failed jobs\n",
      "\n",
      "Step run COMPLETED in 24.43 seconds.\n",
      "Pipeline zoomcamp_pipeline load step completed in 10.19 seconds\n",
      "1 load package(s) were loaded to destination qdrant and into dataset zoomcamp_tagged_data\n",
      "The qdrant destination used c:\\Users\\ilias\\Documents\\GitHub\\llm-zoomcamp\\03-Workshop\\db.qdrant location to store data\n",
      "Load package 1751913536.6524866 is LOADED and contains no failed jobs\n"
     ]
    }
   ],
   "source": [
    "pipeline = dlt.pipeline(\n",
    "    pipeline_name=\"zoomcamp_pipeline\",\n",
    "    destination=qdrant_destination,\n",
    "    dataset_name=\"zoomcamp_tagged_data\"\n",
    "\n",
    ")\n",
    "load_info = pipeline.run(zoomcamp_data())\n",
    "print(pipeline.last_trace)"
   ]
  },
  {
   "cell_type": "markdown",
   "id": "f5d2c18a",
   "metadata": {},
   "source": [
    "948 rows where inserted to the zoomcamp_data collection"
   ]
  },
  {
   "cell_type": "markdown",
   "id": "9f573c5f",
   "metadata": {},
   "source": [
    "Question 3. Embeddings (When inserting the data, an embedding model was used. Which one?)"
   ]
  },
  {
   "cell_type": "code",
   "execution_count": 11,
   "id": "30411151",
   "metadata": {},
   "outputs": [
    {
     "name": "stdout",
     "output_type": "stream",
     "text": [
      "{'collections': {'zoomcamp_tagged_data': {'vectors': {'fast-bge-small-en': {'size': 384, 'distance': 'Cosine', 'hnsw_config': None, 'quantization_config': None, 'on_disk': None, 'datatype': None, 'multivector_config': None}}, 'shard_number': None, 'sharding_method': None, 'replication_factor': None, 'write_consistency_factor': None, 'on_disk_payload': None, 'hnsw_config': None, 'wal_config': None, 'optimizers_config': None, 'init_from': None, 'quantization_config': None, 'sparse_vectors': None, 'strict_mode_config': None}, 'zoomcamp_tagged_data__dlt_pipeline_state': {'vectors': {'fast-bge-small-en': {'size': 384, 'distance': 'Cosine', 'hnsw_config': None, 'quantization_config': None, 'on_disk': None, 'datatype': None, 'multivector_config': None}}, 'shard_number': None, 'sharding_method': None, 'replication_factor': None, 'write_consistency_factor': None, 'on_disk_payload': None, 'hnsw_config': None, 'wal_config': None, 'optimizers_config': None, 'init_from': None, 'quantization_config': None, 'sparse_vectors': None, 'strict_mode_config': None}, 'zoomcamp_tagged_data__dlt_version': {'vectors': {'fast-bge-small-en': {'size': 384, 'distance': 'Cosine', 'hnsw_config': None, 'quantization_config': None, 'on_disk': None, 'datatype': None, 'multivector_config': None}}, 'shard_number': None, 'sharding_method': None, 'replication_factor': None, 'write_consistency_factor': None, 'on_disk_payload': None, 'hnsw_config': None, 'wal_config': None, 'optimizers_config': None, 'init_from': None, 'quantization_config': None, 'sparse_vectors': None, 'strict_mode_config': None}, 'zoomcamp_tagged_data_zoomcamp_data': {'vectors': {'fast-bge-small-en': {'size': 384, 'distance': 'Cosine', 'hnsw_config': None, 'quantization_config': None, 'on_disk': None, 'datatype': None, 'multivector_config': None}}, 'shard_number': None, 'sharding_method': None, 'replication_factor': None, 'write_consistency_factor': None, 'on_disk_payload': None, 'hnsw_config': None, 'wal_config': None, 'optimizers_config': None, 'init_from': None, 'quantization_config': None, 'sparse_vectors': None, 'strict_mode_config': None}, 'zoomcamp_tagged_data__dlt_loads': {'vectors': {'fast-bge-small-en': {'size': 384, 'distance': 'Cosine', 'hnsw_config': None, 'quantization_config': None, 'on_disk': None, 'datatype': None, 'multivector_config': None}}, 'shard_number': None, 'sharding_method': None, 'replication_factor': None, 'write_consistency_factor': None, 'on_disk_payload': None, 'hnsw_config': None, 'wal_config': None, 'optimizers_config': None, 'init_from': None, 'quantization_config': None, 'sparse_vectors': None, 'strict_mode_config': None}}, 'aliases': {}}\n"
     ]
    }
   ],
   "source": [
    "import json\n",
    "\n",
    "meta_path = r\"C:\\Users\\ilias\\Documents\\GitHub\\llm-zoomcamp\\03-Workshop\\db.qdrant\\meta.json\"\n",
    "\n",
    "with open(meta_path, \"r\") as f:\n",
    "    meta = json.load(f)\n",
    "\n",
    "print(meta)\n"
   ]
  },
  {
   "cell_type": "markdown",
   "id": "362f084a",
   "metadata": {},
   "source": [
    "Answer is fast-bge-small-en"
   ]
  }
 ],
 "metadata": {
  "kernelspec": {
   "display_name": "Python 3",
   "language": "python",
   "name": "python3"
  },
  "language_info": {
   "codemirror_mode": {
    "name": "ipython",
    "version": 3
   },
   "file_extension": ".py",
   "mimetype": "text/x-python",
   "name": "python",
   "nbconvert_exporter": "python",
   "pygments_lexer": "ipython3",
   "version": "3.12.2"
  }
 },
 "nbformat": 4,
 "nbformat_minor": 5
}
