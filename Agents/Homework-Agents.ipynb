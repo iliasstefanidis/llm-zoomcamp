{
 "cells": [
  {
   "cell_type": "code",
   "execution_count": 2,
   "id": "9f161a6e-e722-48c4-b96b-8d913f12e170",
   "metadata": {},
   "outputs": [],
   "source": [
    "import random\n",
    "\n",
    "known_weather_data = {\n",
    "    'berlin': 20.0\n",
    "}\n",
    "\n",
    "def get_weather(city: str) -> float:\n",
    "    city = city.strip().lower()\n",
    "\n",
    "    if city in known_weather_data:\n",
    "        return known_weather_data[city]\n",
    "\n",
    "    return round(random.uniform(-5, 35), 1)"
   ]
  },
  {
   "cell_type": "markdown",
   "id": "4df78f86",
   "metadata": {},
   "source": [
    "Q1"
   ]
  },
  {
   "cell_type": "code",
   "execution_count": null,
   "id": "a2c90947",
   "metadata": {},
   "outputs": [],
   "source": [
    "get_weather_tool = {\n",
    "    \"type\": \"function\",\n",
    "    \"name\": \"get_weather\",\n",
    "    \"description\": \"Get the current weather temperature for a given city.\",\n",
    "    \"parameters\": {\n",
    "        \"type\": \"object\",\n",
    "        \"properties\": {\n",
    "            \"city\": {             # <-- TODO3: the parameter name is \"city\"\n",
    "                \"type\": \"string\",\n",
    "                \"description\": \"The name of the city to get the weather for.\"  # <-- TODO4: description of city\n",
    "            }\n",
    "        },\n",
    "        \"required\": [\"city\"],      # <-- TODO5: required parameters (here only \"city\")\n",
    "        \"additionalProperties\": False\n",
    "    }\n",
    "}\n"
   ]
  },
  {
   "cell_type": "markdown",
   "id": "d01b9bca",
   "metadata": {},
   "source": [
    "Answer is city"
   ]
  },
  {
   "cell_type": "markdown",
   "id": "8f724527",
   "metadata": {},
   "source": [
    "Q2"
   ]
  },
  {
   "cell_type": "code",
   "execution_count": 5,
   "id": "3615fa7b",
   "metadata": {},
   "outputs": [],
   "source": [
    "def set_weather(city: str, temp: float) -> None:\n",
    "    city = city.strip().lower()\n",
    "    known_weather_data[city] = temp\n",
    "    return 'OK'"
   ]
  },
  {
   "cell_type": "code",
   "execution_count": 6,
   "id": "f1ff9e09",
   "metadata": {},
   "outputs": [],
   "source": [
    "set_weather_tool = {\n",
    "    \"type\": \"function\",\n",
    "    \"name\": \"set_weather\",\n",
    "    \"description\": \"Add or update the weather temperature for a given city in the database.\",\n",
    "    \"parameters\": {\n",
    "        \"type\": \"object\",\n",
    "        \"properties\": {\n",
    "            \"city\": {\n",
    "                \"type\": \"string\",\n",
    "                \"description\": \"The name of the city to add or update.\"\n",
    "            },\n",
    "            \"temp\": {\n",
    "                \"type\": \"number\",\n",
    "                \"description\": \"The temperature value to set for the city.\"\n",
    "            }\n",
    "        },\n",
    "        \"required\": [\"city\", \"temp\"],\n",
    "        \"additionalProperties\": False\n",
    "    }\n",
    "}"
   ]
  },
  {
   "cell_type": "markdown",
   "id": "a1041c3c",
   "metadata": {},
   "source": [
    "This is the description , the answer for Q2"
   ]
  },
  {
   "cell_type": "code",
   "execution_count": 7,
   "id": "2b12f093",
   "metadata": {},
   "outputs": [
    {
     "name": "stdout",
     "output_type": "stream",
     "text": [
      "OK\n"
     ]
    }
   ],
   "source": [
    "print(set_weather(\"Paris\", 25.5))"
   ]
  },
  {
   "cell_type": "code",
   "execution_count": 8,
   "id": "26795abf",
   "metadata": {},
   "outputs": [
    {
     "name": "stdout",
     "output_type": "stream",
     "text": [
      "25.5\n"
     ]
    }
   ],
   "source": [
    "print(get_weather(\"Paris\")) "
   ]
  },
  {
   "cell_type": "markdown",
   "id": "2853afad",
   "metadata": {},
   "source": [
    "Q3"
   ]
  },
  {
   "cell_type": "markdown",
   "id": "5e09b303",
   "metadata": {},
   "source": [
    "What's the version of FastMCP you installed?"
   ]
  },
  {
   "cell_type": "code",
   "execution_count": 9,
   "id": "9768ac48",
   "metadata": {},
   "outputs": [
    {
     "name": "stdout",
     "output_type": "stream",
     "text": [
      "2.10.5\n"
     ]
    }
   ],
   "source": [
    "import fastmcp\n",
    "print(fastmcp.__version__)\n"
   ]
  },
  {
   "cell_type": "markdown",
   "id": "4a63e2da",
   "metadata": {},
   "source": [
    "Answer is 2.10.5"
   ]
  },
  {
   "cell_type": "markdown",
   "id": "4f31f0e4",
   "metadata": {},
   "source": []
  },
  {
   "cell_type": "markdown",
   "id": "d6399368",
   "metadata": {},
   "source": [
    "Q4"
   ]
  },
  {
   "cell_type": "code",
   "execution_count": 14,
   "id": "b9aed8a3",
   "metadata": {},
   "outputs": [],
   "source": [
    "#run python rag-agents-workshop\\weather_server.py"
   ]
  },
  {
   "cell_type": "code",
   "execution_count": null,
   "id": "23fb7c6f",
   "metadata": {},
   "outputs": [],
   "source": [
    "#run rag-agents-workshop\\weather_serverQ4.py\n",
    "#run python weather_serverQ4.py"
   ]
  },
  {
   "cell_type": "markdown",
   "id": "80bfb2ea",
   "metadata": {},
   "source": [
    "🖥️  Server name:     Demo 🚀                                             │\n",
    "│    📦 Transport:       STDIO                                               │\n",
    "│                                                                            │\n",
    "│    📚 Docs:            https://gofastmcp.com                               │\n",
    "│    🚀 Deploy:          https://fastmcp.cloud                               │\n",
    "│                                                                            │\n",
    "│    🏎️  FastMCP version: 2.10.5                                              │\n",
    "│    🤝 MCP version:     1.11.0                                              │\n",
    "│                                                                            │\n",
    "╰────────────────────────────────────────────────────────────────────────────╯\n",
    "\n",
    "\n",
    "[07/16/25 00:13:45] INFO     Starting MCP server 'Demo 🚀' with transport 'stdio'    Answer is stdio"
   ]
  },
  {
   "cell_type": "markdown",
   "id": "6a58e848",
   "metadata": {},
   "source": [
    "Q5 "
   ]
  },
  {
   "cell_type": "markdown",
   "id": "8404df6c",
   "metadata": {},
   "source": [
    "run weather_serverQ5.py"
   ]
  },
  {
   "cell_type": "markdown",
   "id": "baaae598",
   "metadata": {},
   "source": [
    "Answer is this :\n",
    "\n",
    "{\n",
    "  \"jsonrpc\": \"2.0\",\n",
    "  \"id\": 3,\n",
    "  \"result\": {\n",
    "    \"content\": [\n",
    "      {\n",
    "        \"type\": \"text\",\n",
    "        \"text\": \"20.0\"\n",
    "      }\n",
    "    ],\n",
    "    \"structuredContent\": {\n",
    "      \"result\": 20.0\n",
    "    },\n",
    "    \"isError\": false\n",
    "  }\n",
    "}\n"
   ]
  },
  {
   "cell_type": "markdown",
   "id": "aad74038",
   "metadata": {},
   "source": [
    "Q5 RUN python mcp_client_hw.py\n"
   ]
  },
  {
   "cell_type": "markdown",
   "id": "35c098c8",
   "metadata": {},
   "source": [
    "Answer Q5:\n",
    "- get_weather: Retrieves the temperature for a specified city.\n",
    "- set_weather: Sets the temperature for a specified city."
   ]
  },
  {
   "cell_type": "markdown",
   "id": "ebbaf657",
   "metadata": {},
   "source": []
  },
  {
   "cell_type": "code",
   "execution_count": null,
   "id": "cb3a033c",
   "metadata": {},
   "outputs": [],
   "source": []
  },
  {
   "cell_type": "code",
   "execution_count": null,
   "id": "235c8468",
   "metadata": {},
   "outputs": [],
   "source": []
  },
  {
   "cell_type": "markdown",
   "id": "7d62d7ba",
   "metadata": {},
   "source": []
  }
 ],
 "metadata": {
  "kernelspec": {
   "display_name": "Python 3",
   "language": "python",
   "name": "python3"
  },
  "language_info": {
   "codemirror_mode": {
    "name": "ipython",
    "version": 3
   },
   "file_extension": ".py",
   "mimetype": "text/x-python",
   "name": "python",
   "nbconvert_exporter": "python",
   "pygments_lexer": "ipython3",
   "version": "3.12.2"
  }
 },
 "nbformat": 4,
 "nbformat_minor": 5
}
